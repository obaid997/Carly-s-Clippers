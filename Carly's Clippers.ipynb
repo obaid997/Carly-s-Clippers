{
 "cells": [
  {
   "cell_type": "code",
   "execution_count": 6,
   "id": "b005be13",
   "metadata": {},
   "outputs": [
    {
     "name": "stdout",
     "output_type": "stream",
     "text": [
      "Average Haircut Price: 31.875\n",
      "New Prices after giving a sicount of 5$ are: [25, 20, 35, 15, 15, 30, 45, 30]\n",
      "Total Revenue: 1085\n",
      "155.0\n",
      "Haircuts below 30$ are: ['bouffant', 'pixie', 'crew', 'bowl']\n"
     ]
    }
   ],
   "source": [
    "hairstyles = [\"bouffant\", \"pixie\", \"dreadlocks\", \"crew\", \"bowl\", \"bob\", \"mohawk\", \"flattop\"]\n",
    "prices = [30, 25, 40, 20, 20, 35, 50, 35]\n",
    "last_week = [2, 3, 5, 8, 4, 4, 6, 2]\n",
    "total_price = 0\n",
    "for i in prices:\n",
    "  total_price += i\n",
    "average_price = total_price/len(prices)\n",
    "print('Average Haircut Price: ' + str(average_price))\n",
    "new_prices = []\n",
    "for p in prices:\n",
    "  new_prices.append(p - 5)\n",
    "print('New Prices after giving a sicount of 5$ are: ' + str(new_prices))\n",
    "total_revenue = 0\n",
    "for i in range(len(hairstyles)):\n",
    " total_revenue += prices[i] * last_week[i]\n",
    "print('Total Revenue: ' + str(total_revenue))\n",
    "average_daily_revenue = total_revenue/7\n",
    "print(average_daily_revenue)\n",
    "cuts_under_30 = []\n",
    "for i in range(len(hairstyles)):\n",
    "  if new_prices[i] < 30:\n",
    "    cuts_under_30.append(hairstyles[i])\n",
    "print('Haircuts below 30$ are: ' + str(cuts_under_30))\n"
   ]
  },
  {
   "cell_type": "code",
   "execution_count": null,
   "id": "e77e8844",
   "metadata": {},
   "outputs": [],
   "source": []
  }
 ],
 "metadata": {
  "kernelspec": {
   "display_name": "Python 3 (ipykernel)",
   "language": "python",
   "name": "python3"
  },
  "language_info": {
   "codemirror_mode": {
    "name": "ipython",
    "version": 3
   },
   "file_extension": ".py",
   "mimetype": "text/x-python",
   "name": "python",
   "nbconvert_exporter": "python",
   "pygments_lexer": "ipython3",
   "version": "3.9.12"
  }
 },
 "nbformat": 4,
 "nbformat_minor": 5
}
